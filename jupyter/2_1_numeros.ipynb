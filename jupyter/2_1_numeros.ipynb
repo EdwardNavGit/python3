{
 "cells": [
  {
   "cell_type": "markdown",
   "id": "4ced4aee",
   "metadata": {},
   "source": [
    "<h1>Tipos de Datos</h1>"
   ]
  },
  {
   "cell_type": "markdown",
   "id": "643614a0",
   "metadata": {},
   "source": [
    "<h2>Dato Númerico</h2>"
   ]
  }
 ],
 "metadata": {
  "kernelspec": {
   "display_name": "Python 3 (ipykernel)",
   "language": "python",
   "name": "python3"
  },
  "language_info": {
   "codemirror_mode": {
    "name": "ipython",
    "version": 3
   },
   "file_extension": ".py",
   "mimetype": "text/x-python",
   "name": "python",
   "nbconvert_exporter": "python",
   "pygments_lexer": "ipython3",
   "version": "3.11.5"
  }
 },
 "nbformat": 4,
 "nbformat_minor": 5
}
